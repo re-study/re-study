{
  "nbformat": 4,
  "nbformat_minor": 0,
  "metadata": {
    "colab": {
      "name": "7-7_mycode.ipynb",
      "provenance": [],
      "authorship_tag": "ABX9TyNhVJZZSNaDHYjpNFOrWyuP",
      "include_colab_link": true
    },
    "kernelspec": {
      "name": "python3",
      "display_name": "Python 3"
    },
    "language_info": {
      "name": "python"
    },
    "accelerator": "GPU"
  },
  "cells": [
    {
      "cell_type": "markdown",
      "metadata": {
        "id": "view-in-github",
        "colab_type": "text"
      },
      "source": [
        "<a href=\"https://colab.research.google.com/github/re-study/re-study/blob/yanagi/colab/7_7_mycode.ipynb\" target=\"_parent\"><img src=\"https://colab.research.google.com/assets/colab-badge.svg\" alt=\"Open In Colab\"/></a>"
      ]
    },
    {
      "cell_type": "markdown",
      "source": [
        "# はじめに\n",
        "ここではTransfoirmerの学習・推論を行い、判定根拠の可視化を実装する。"
      ],
      "metadata": {
        "id": "5b6Ck4hATeyo"
      }
    },
    {
      "cell_type": "code",
      "execution_count": null,
      "metadata": {
        "colab": {
          "base_uri": "https://localhost:8080/"
        },
        "id": "DMytr6eRTMoK",
        "outputId": "9cb91b5a-b165-4e79-de35-3aeec3e357e7"
      },
      "outputs": [
        {
          "output_type": "stream",
          "name": "stdout",
          "text": [
            "Requirement already satisfied: torchtext==0.8.1 in /usr/local/lib/python3.7/dist-packages (0.8.1)\n",
            "Requirement already satisfied: requests in /usr/local/lib/python3.7/dist-packages (from torchtext==0.8.1) (2.23.0)\n",
            "Requirement already satisfied: torch==1.7.1 in /usr/local/lib/python3.7/dist-packages (from torchtext==0.8.1) (1.7.1)\n",
            "Requirement already satisfied: tqdm in /usr/local/lib/python3.7/dist-packages (from torchtext==0.8.1) (4.62.3)\n",
            "Requirement already satisfied: numpy in /usr/local/lib/python3.7/dist-packages (from torchtext==0.8.1) (1.19.5)\n",
            "Requirement already satisfied: typing-extensions in /usr/local/lib/python3.7/dist-packages (from torch==1.7.1->torchtext==0.8.1) (3.10.0.2)\n",
            "Requirement already satisfied: certifi>=2017.4.17 in /usr/local/lib/python3.7/dist-packages (from requests->torchtext==0.8.1) (2021.10.8)\n",
            "Requirement already satisfied: urllib3!=1.25.0,!=1.25.1,<1.26,>=1.21.1 in /usr/local/lib/python3.7/dist-packages (from requests->torchtext==0.8.1) (1.24.3)\n",
            "Requirement already satisfied: idna<3,>=2.5 in /usr/local/lib/python3.7/dist-packages (from requests->torchtext==0.8.1) (2.10)\n",
            "Requirement already satisfied: chardet<4,>=3.0.2 in /usr/local/lib/python3.7/dist-packages (from requests->torchtext==0.8.1) (3.0.4)\n"
          ]
        }
      ],
      "source": [
        "pip install torchtext==0.8.1"
      ]
    },
    {
      "cell_type": "code",
      "source": [
        "# マウント\n",
        "from google.colab import drive\n",
        "drive.mount('/content/drive')"
      ],
      "metadata": {
        "colab": {
          "base_uri": "https://localhost:8080/"
        },
        "id": "qWd1_u4TTYVv",
        "outputId": "c1b9d796-c780-4edd-d72e-8e213d297665"
      },
      "execution_count": null,
      "outputs": [
        {
          "output_type": "stream",
          "name": "stdout",
          "text": [
            "Drive already mounted at /content/drive; to attempt to forcibly remount, call drive.mount(\"/content/drive\", force_remount=True).\n"
          ]
        }
      ]
    },
    {
      "cell_type": "code",
      "source": [
        "#%cd drive/MyDrive/hogehoge…"
      ],
      "metadata": {
        "id": "7eIkj7VzTYZr"
      },
      "execution_count": null,
      "outputs": []
    },
    {
      "cell_type": "code",
      "source": [
        "# パッケージのimport\n",
        "import numpy as np\n",
        "import random\n",
        "\n",
        "import torch\n",
        "import torch.nn as nn\n",
        "import torch.optim as optim\n",
        "\n",
        "import torchtext"
      ],
      "metadata": {
        "id": "hDNvTIAzU2rs"
      },
      "execution_count": null,
      "outputs": []
    },
    {
      "cell_type": "code",
      "source": [
        "# 乱数のシードを設定\n",
        "torch.manual_seed(1234)\n",
        "np.random.seed(1234)\n",
        "random.seed(1234)"
      ],
      "metadata": {
        "id": "n3P3f_yUU4jG"
      },
      "execution_count": null,
      "outputs": []
    },
    {
      "cell_type": "markdown",
      "source": [
        "# DatasetとDataLoaderを作成"
      ],
      "metadata": {
        "id": "J7kzhj6zUptZ"
      }
    },
    {
      "cell_type": "code",
      "source": [
        "from utils.dataloader import get_IMDb_DataLoaders_and_TEXT\n",
        "\n",
        "# 読み込み\n",
        "train_dl, val_dl, test_dl, TEXT = get_IMDb_DataLoaders_and_TEXT(\n",
        "    max_length=256, batch_size=64)\n",
        "\n",
        "# 辞書オブジェクト\n",
        "dataloaders_dict = {\"train\": train_dl, \"val\":val_dl}"
      ],
      "metadata": {
        "colab": {
          "base_uri": "https://localhost:8080/"
        },
        "id": "yza6No-9Uepu",
        "outputId": "334f6f5c-0672-4c3f-b303-7adc60b93faa"
      },
      "execution_count": null,
      "outputs": [
        {
          "output_type": "stream",
          "name": "stderr",
          "text": [
            "/usr/local/lib/python3.7/dist-packages/torchtext/data/field.py:150: UserWarning: Field class will be retired soon and moved to torchtext.legacy. Please see the most recent release notes for further information.\n",
            "  warnings.warn('{} class will be retired soon and moved to torchtext.legacy. Please see the most recent release notes for further information.'.format(self.__class__.__name__), UserWarning)\n",
            "/usr/local/lib/python3.7/dist-packages/torchtext/data/example.py:68: UserWarning: Example class will be retired soon and moved to torchtext.legacy. Please see the most recent release notes for further information.\n",
            "  warnings.warn('Example class will be retired soon and moved to torchtext.legacy. Please see the most recent release notes for further information.', UserWarning)\n",
            "/usr/local/lib/python3.7/dist-packages/torchtext/data/example.py:78: UserWarning: Example class will be retired soon and moved to torchtext.legacy. Please see the most recent release notes for further information.\n",
            "  warnings.warn('Example class will be retired soon and moved to torchtext.legacy. Please see the most recent release notes for further information.', UserWarning)\n",
            "/usr/local/lib/python3.7/dist-packages/torchtext/data/iterator.py:48: UserWarning: Iterator class will be retired soon and moved to torchtext.legacy. Please see the most recent release notes for further information.\n",
            "  warnings.warn('{} class will be retired soon and moved to torchtext.legacy. Please see the most recent release notes for further information.'.format(self.__class__.__name__), UserWarning)\n"
          ]
        }
      ]
    },
    {
      "cell_type": "markdown",
      "source": [
        "# ネットワークモデルの作成"
      ],
      "metadata": {
        "id": "iUKWg5wmVW6t"
      }
    },
    {
      "cell_type": "code",
      "source": [
        "from utils.transformer import TransformerClassification\n",
        "\n",
        "# モデル構築\n",
        "net = TransformerClassification(\n",
        "    text_embedding_vectors=TEXT.vocab.vectors, d_model=300, max_seq_len=256, output_dim=2)\n",
        "\n",
        "# ネットワークの初期化を定義\n",
        "def weights_init(m):\n",
        "    classname = m.__class__.__name__\n",
        "    if classname.find(\"Linear\") != -1:\n",
        "        # Linear層の初期化\n",
        "        # https://pytorch.org/docs/stable/nn.init.html\n",
        "        nn.init.kaiming_normal_(m.weight)\n",
        "        if m.bias is not None:\n",
        "            nn.init.constant_(m.bias, 0.0)\n",
        "\n",
        "# 訓練モードに設定\n",
        "net.train()\n",
        "\n",
        "# 初期化実行\n",
        "net.net3_1.apply(weights_init)\n",
        "net.net3_2.apply(weights_init)\n",
        "\n",
        "print('設定完了')"
      ],
      "metadata": {
        "colab": {
          "base_uri": "https://localhost:8080/"
        },
        "id": "uEfNlmYlVVRF",
        "outputId": "5a1290fb-f66c-41d8-921a-3b7e35cc4efd"
      },
      "execution_count": null,
      "outputs": [
        {
          "output_type": "stream",
          "name": "stdout",
          "text": [
            "設定完了\n"
          ]
        }
      ]
    },
    {
      "cell_type": "markdown",
      "source": [
        "# 損失関数と最適化手法を定義"
      ],
      "metadata": {
        "id": "v0dmrEvaanOF"
      }
    },
    {
      "cell_type": "code",
      "source": [
        "# 損失関数の設定\n",
        "criterion = nn.CrossEntropyLoss()\n",
        "\n",
        "# 最適化手法\n",
        "learning_rate = 2e-5\n",
        "optimizer = optim.Adam(net.parameters(), lr=learning_rate)"
      ],
      "metadata": {
        "id": "kQlCUxtMZsRt"
      },
      "execution_count": null,
      "outputs": []
    },
    {
      "cell_type": "markdown",
      "source": [
        "# 学習を実施"
      ],
      "metadata": {
        "id": "MQcPekM5a-Z8"
      }
    },
    {
      "cell_type": "code",
      "source": [
        "def train_model(net, dataloaders_dict, criterion, optimizer, num_epochs):\n",
        "\n",
        "    # GPUが使えるかを検証\n",
        "    device = torch.device(\"cuda:0\" if torch.cuda.is_available() else \"cpu\")\n",
        "    print(\"使用デバイス:\", device)\n",
        "    print(\"----------start----------\")\n",
        "    # net→GPU\n",
        "    net.to(device)\n",
        "\n",
        "    # ネットワークがある程度固定であれば、高速化させる\n",
        "    torch.backends.cudnn.benchmark = True\n",
        "\n",
        "    # epoch\n",
        "    for epoch in range(num_epochs):\n",
        "        for phase in ['train', 'val']:\n",
        "            if phase == 'train': # 訓練モードかそうでないかの設定\n",
        "                net.train()\n",
        "            else:\n",
        "                net.eval()\n",
        "\n",
        "            epoch_loss = 0.0 # 損失和\n",
        "            epoch_corrects = 0 # 正解数\n",
        "\n",
        "            # dataloader\n",
        "            for batch in (dataloaders_dict[phase]):\n",
        "                # batchはText,Labelの辞書オブジェクト\n",
        "                inputs = batch.Text[0].to(device)\n",
        "                labels = batch.Label.to(device)\n",
        "\n",
        "                # optimizerを初期化\n",
        "                optimizer.zero_grad()\n",
        "\n",
        "                # forward\n",
        "                with torch.set_grad_enabled(phase=='train'):\n",
        "\n",
        "                    # mask\n",
        "                    input_pad = 1\n",
        "                    input_mask = (inputs != input_pad)\n",
        "\n",
        "                    # Transformerに入力\n",
        "                    outputs, _, _ = net(inputs, input_mask)\n",
        "                    loss = criterion(outputs, labels)\n",
        "\n",
        "                    _, preds = torch.max(outputs, 1) # ラベルを予測\n",
        "\n",
        "                    # 訓練時はバックプロパゲーション\n",
        "                    if phase == 'train':\n",
        "                        loss.backward()\n",
        "                        optimizer.step()\n",
        "\n",
        "                    # 結果の計算\n",
        "                    epoch_loss += loss.item() * inputs.size(0) # lossの合計を更新\n",
        "                    # 正解数の合計を更新\n",
        "                    epoch_corrects += torch.sum(preds == labels.data)\n",
        "\n",
        "            # epochごとのlossと正解率\n",
        "            epoch_loss = epoch_loss / len(dataloaders_dict[phase].dataset)\n",
        "            epoch_acc = epoch_corrects.double() / len(dataloaders_dict[phase].dataset)\n",
        "\n",
        "            print('Epoch {}/{} ({:^5}) ----------------> Loss: {:.4f} Acc: {:.4f}'.format(epoch+1, num_epochs, phase, epoch_loss, epoch_acc))\n",
        "\n",
        "    return net\n"
      ],
      "metadata": {
        "id": "wati79rFa6JB"
      },
      "execution_count": null,
      "outputs": []
    },
    {
      "cell_type": "code",
      "source": [
        "# 学習・検証を実行する 15分ほどかかります\n",
        "num_epochs = 10\n",
        "net_trained = train_model(net, dataloaders_dict,\n",
        "                          criterion, optimizer, num_epochs=num_epochs)"
      ],
      "metadata": {
        "colab": {
          "base_uri": "https://localhost:8080/"
        },
        "id": "SPTZWaZzd3IR",
        "outputId": "0a4af4d9-57a1-449e-eae1-c05db7c2363b"
      },
      "execution_count": null,
      "outputs": [
        {
          "output_type": "stream",
          "name": "stdout",
          "text": [
            "使用デバイス: cuda:0\n",
            "----------start----------\n"
          ]
        },
        {
          "output_type": "stream",
          "name": "stderr",
          "text": [
            "/usr/local/lib/python3.7/dist-packages/torchtext/data/batch.py:23: UserWarning: Batch class will be retired soon and moved to torchtext.legacy. Please see the most recent release notes for further information.\n",
            "  warnings.warn('{} class will be retired soon and moved to torchtext.legacy. Please see the most recent release notes for further information.'.format(self.__class__.__name__), UserWarning)\n"
          ]
        },
        {
          "output_type": "stream",
          "name": "stdout",
          "text": [
            "Epoch 1/10 (train) ----------------> Loss: 0.4034 Acc: 0.8213\n",
            "Epoch 1/10 ( val ) ----------------> Loss: 0.3971 Acc: 0.8294\n",
            "Epoch 2/10 (train) ----------------> Loss: 0.3818 Acc: 0.8311\n",
            "Epoch 2/10 ( val ) ----------------> Loss: 0.3811 Acc: 0.8360\n",
            "Epoch 3/10 (train) ----------------> Loss: 0.3710 Acc: 0.8375\n",
            "Epoch 3/10 ( val ) ----------------> Loss: 0.3689 Acc: 0.8392\n",
            "Epoch 4/10 (train) ----------------> Loss: 0.3587 Acc: 0.8442\n",
            "Epoch 4/10 ( val ) ----------------> Loss: 0.3763 Acc: 0.8432\n",
            "Epoch 5/10 (train) ----------------> Loss: 0.3485 Acc: 0.8495\n",
            "Epoch 5/10 ( val ) ----------------> Loss: 0.3598 Acc: 0.8466\n",
            "Epoch 6/10 (train) ----------------> Loss: 0.3414 Acc: 0.8528\n",
            "Epoch 6/10 ( val ) ----------------> Loss: 0.3556 Acc: 0.8516\n",
            "Epoch 7/10 (train) ----------------> Loss: 0.3373 Acc: 0.8544\n",
            "Epoch 7/10 ( val ) ----------------> Loss: 0.3531 Acc: 0.8474\n",
            "Epoch 8/10 (train) ----------------> Loss: 0.3299 Acc: 0.8583\n",
            "Epoch 8/10 ( val ) ----------------> Loss: 0.3552 Acc: 0.8506\n",
            "Epoch 9/10 (train) ----------------> Loss: 0.3232 Acc: 0.8618\n",
            "Epoch 9/10 ( val ) ----------------> Loss: 0.3505 Acc: 0.8520\n",
            "Epoch 10/10 (train) ----------------> Loss: 0.3218 Acc: 0.8618\n",
            "Epoch 10/10 ( val ) ----------------> Loss: 0.3532 Acc: 0.8514\n"
          ]
        }
      ]
    },
    {
      "cell_type": "markdown",
      "source": [
        "# テストデータでの正解率を求める"
      ],
      "metadata": {
        "id": "o5Pjv9FMk2XY"
      }
    },
    {
      "cell_type": "code",
      "source": [
        "# device\n",
        "device = torch.device(\"cuda:0\" if torch.cuda.is_available() else \"cpu\")\n",
        "\n",
        "net_trained.eval()\n",
        "net_trained.to(device)\n",
        "\n",
        "epoch_corrects = 0 # 正解数\n",
        "\n",
        "for batch in (test_dl):\n",
        "    inputs = batch.Text[0].to(device)\n",
        "    labels = batch.Label.to(device)\n",
        "\n",
        "    # forward\n",
        "    with torch.set_grad_enabled(False):\n",
        "\n",
        "        # mask\n",
        "        input_pad = 1\n",
        "        input_mask = (inputs != input_pad)\n",
        "\n",
        "        # Transformer\n",
        "        outputs, _, _ = net_trained(inputs, input_mask)\n",
        "        _, preds = torch.max(outputs, 1) # ラベルを予測\n",
        "\n",
        "        # 結果の計算\n",
        "        # 正解数の合計を更新\n",
        "        epoch_corrects += torch.sum(preds == labels.data)\n",
        "\n",
        "\n",
        "# 正解率\n",
        "epoch_acc = epoch_corrects.double() / len(test_dl.dataset)\n",
        "\n",
        "print('テストデータ{}個での正解率：{:.4f}'.format(len(test_dl.dataset),epoch_acc))"
      ],
      "metadata": {
        "colab": {
          "base_uri": "https://localhost:8080/"
        },
        "id": "BxF42un4eEAa",
        "outputId": "f0ec5259-799e-45cc-d573-1eec8e57d17e"
      },
      "execution_count": null,
      "outputs": [
        {
          "output_type": "stream",
          "name": "stderr",
          "text": [
            "/usr/local/lib/python3.7/dist-packages/torchtext/data/batch.py:23: UserWarning: Batch class will be retired soon and moved to torchtext.legacy. Please see the most recent release notes for further information.\n",
            "  warnings.warn('{} class will be retired soon and moved to torchtext.legacy. Please see the most recent release notes for further information.'.format(self.__class__.__name__), UserWarning)\n"
          ]
        },
        {
          "output_type": "stream",
          "name": "stdout",
          "text": [
            "テストデータ25000個での正解率：0.8542\n"
          ]
        }
      ]
    },
    {
      "cell_type": "markdown",
      "source": [
        "# Attentionの可視化で判定根拠を探る"
      ],
      "metadata": {
        "id": "uS416WwxtRf1"
      }
    },
    {
      "cell_type": "code",
      "source": [
        "# HTMLを作成する関数を実装\n",
        "\n",
        "def highlight(word, attn):\n",
        "    '''Attentionの値が大きいと文字の背景が濃い赤になるhtmlを出力'''\n",
        "\n",
        "    html_color = '#%02X%02X%02X' % (\n",
        "        255, int(255*(1 - attn)), int(255*(1 - attn)))\n",
        "    return '<span style=\"background-color: {}\"> {}</span>'.format(html_color, word)\n",
        "\n",
        "def mk_html(index, batch, preds, normalized_weights_1, normalized_weights_2, TEXT):\n",
        "        '''HTMLデータを作成する'''\n",
        "\n",
        "        # indexの結果を抽出\n",
        "        sentence = batch.Text[0][index] # 文章\n",
        "        label = batch.Label[index]\n",
        "        pred = preds[index]\n",
        "\n",
        "        # indexのAttentionを抽出と規格化\n",
        "        attens1 = normalized_weights_1[index, 0, :]\n",
        "        attens1 /= attens1.max()\n",
        "\n",
        "        attens2 = normalized_weights_2[index, 0, :]\n",
        "        attens2 /= attens2.max()\n",
        "\n",
        "        # ラベルと予測結果を文字に置き換え\n",
        "        if label == 0:\n",
        "            label_str = \"Negative\"\n",
        "        else:\n",
        "            label_str = \"Positive\"\n",
        "        \n",
        "        if pred == 0:\n",
        "            pred_str = \"Negative\"\n",
        "        else:\n",
        "            pred_str = \"Positive\"\n",
        "\n",
        "        # 表示用のHTMLを作成する\n",
        "        html = '正解ラベル：{}<br>推論ラベル：{}<br><br>'.format(label_str, pred_str)\n",
        "\n",
        "        # 1段目のAttention\n",
        "        html += '[TransformerBlockの1段目のAttentionを可視化]<br>'\n",
        "        for word, attn in zip(sentence, attens1):\n",
        "            html += highlight(TEXT.vocab.itos[word], attn)\n",
        "        html += \"<br><br>\"\n",
        "\n",
        "        # 2段目のAttention\n",
        "        html += '[TransformerBlockの2段目のAttentionを可視化]<br>'\n",
        "        for word, attn in zip(sentence, attens2):\n",
        "            html += highlight(TEXT.vocab.itos[word], attn)\n",
        "\n",
        "        html += \"<br><br>\"\n",
        "\n",
        "        return html\n"
      ],
      "metadata": {
        "id": "8Fpao7cyr0tX"
      },
      "execution_count": null,
      "outputs": []
    },
    {
      "cell_type": "code",
      "source": [
        "from IPython.display import HTML\n",
        "\n",
        "# Transformerで処理\n",
        "\n",
        "# ミニバッチの用意\n",
        "batch = next(iter(test_dl))\n",
        "\n",
        "# GPUが使えるならGPUにデータを送る\n",
        "inputs = batch.Text[0].to(device)  # 文章\n",
        "labels = batch.Label.to(device)  # ラベル\n",
        "\n",
        "# mask作成\n",
        "input_pad = 1  # 単語のIDにおいて、'<pad>': 1 なので\n",
        "input_mask = (inputs != input_pad)\n",
        "\n",
        "# Transformerに入力\n",
        "outputs, normlized_weights_1, normlized_weights_2 = net_trained(\n",
        "    inputs, input_mask)\n",
        "_, preds = torch.max(outputs, 1)  # ラベルを予測\n",
        "\n",
        "\n",
        "index = 3  # 出力させたいデータ\n",
        "html_output = mk_html(index, batch, preds, normlized_weights_1,\n",
        "                      normlized_weights_2, TEXT)  # HTML作成\n",
        "HTML(html_output)  # HTML形式で出力"
      ],
      "metadata": {
        "colab": {
          "base_uri": "https://localhost:8080/",
          "height": 332
        },
        "id": "-ccPYtfYy6-M",
        "outputId": "21fe6000-ecfb-4d56-c637-7e2c5777b689"
      },
      "execution_count": null,
      "outputs": [
        {
          "output_type": "stream",
          "name": "stderr",
          "text": [
            "/usr/local/lib/python3.7/dist-packages/torchtext/data/batch.py:23: UserWarning: Batch class will be retired soon and moved to torchtext.legacy. Please see the most recent release notes for further information.\n",
            "  warnings.warn('{} class will be retired soon and moved to torchtext.legacy. Please see the most recent release notes for further information.'.format(self.__class__.__name__), UserWarning)\n"
          ]
        },
        {
          "output_type": "execute_result",
          "data": {
            "text/html": [
              "正解ラベル：Positive<br>推論ラベル：Positive<br><br>[TransformerBlockの1段目のAttentionを可視化]<br><span style=\"background-color: #FFFBFB\"> <cls></span><span style=\"background-color: #FFF3F3\"> this</span><span style=\"background-color: #FFEEEE\"> was</span><span style=\"background-color: #FFFCFC\"> the</span><span style=\"background-color: #FFE1E1\"> best</span><span style=\"background-color: #FFF3F3\"> film</span><span style=\"background-color: #FFFDFD\"> of</span><span style=\"background-color: #FFEDED\"> 1998</span><span style=\"background-color: #FFFEFE\"> and</span><span style=\"background-color: #FFF5F5\"> one</span><span style=\"background-color: #FFFCFC\"> of</span><span style=\"background-color: #FFFDFD\"> the</span><span style=\"background-color: #FFE7E7\"> best</span><span style=\"background-color: #FFFDFD\"> of</span><span style=\"background-color: #FFFEFE\"> the</span><span style=\"background-color: #FFE8E8\"> 90</span><span style=\"background-color: #FFFCFC\"> s</span><span style=\"background-color: #FFFEFE\"> .</span><span style=\"background-color: #FFFBFB\"> yes</span><span style=\"background-color: #FFFEFE\"> ,</span><span style=\"background-color: #FFFEFE\"> it</span><span style=\"background-color: #FFFDFD\"> is</span><span style=\"background-color: #FFFBFB\"> a</span><span style=\"background-color: #FFF0F0\"> rip</span><span style=\"background-color: #FFF9F9\"> off</span><span style=\"background-color: #FFFCFC\"> of</span><span style=\"background-color: #FFE8E8\"> goodfellas</span><span style=\"background-color: #FFFEFE\"> .</span><span style=\"background-color: #FFFEFE\"> but</span><span style=\"background-color: #FFFEFE\"> as</span><span style=\"background-color: #FFFDFD\"> the</span><span style=\"background-color: #FFFDFD\"> saying</span><span style=\"background-color: #FFFBFB\"> goes</span><span style=\"background-color: #FFFEFE\"> ,</span><span style=\"background-color: #FF8080\"> good</span><span style=\"background-color: #FFFCFC\"> poets</span><span style=\"background-color: #FFF5F5\"> borrow</span><span style=\"background-color: #FFFEFE\"> ,</span><span style=\"background-color: #FF7878\"> great</span><span style=\"background-color: #FFFDFD\"> poets</span><span style=\"background-color: #FFE3E3\"> steal</span><span style=\"background-color: #FFFEFE\"> .</span><span style=\"background-color: #FFFEFE\"> and</span><span style=\"background-color: #FFFDFD\"> <unk></span><span style=\"background-color: #FFF5F5\"> has</span><span style=\"background-color: #FF4242\"> stolen</span><span style=\"background-color: #FFECEC\"> brilliantly</span><span style=\"background-color: #FFFEFE\"> from</span><span style=\"background-color: #FFFDFD\"> some</span><span style=\"background-color: #FFFCFC\"> of</span><span style=\"background-color: #FFFDFD\"> the</span><span style=\"background-color: #FFDDDD\"> best</span><span style=\"background-color: #FFFEFE\"> ,</span><span style=\"background-color: #FFFDFD\"> plus</span><span style=\"background-color: #FFF0F0\"> added</span><span style=\"background-color: #FFFEFE\"> some</span><span style=\"background-color: #FF0000\"> genius</span><span style=\"background-color: #FFF2F2\"> touches</span><span style=\"background-color: #FFFCFC\"> of</span><span style=\"background-color: #FFF8F8\"> his</span><span style=\"background-color: #FF2323\"> own</span><span style=\"background-color: #FFFEFE\"> .</span><span style=\"background-color: #FFF9F9\"> i</span><span style=\"background-color: #FFF0F0\"> gave</span><span style=\"background-color: #FFF4F4\"> this</span><span style=\"background-color: #FFF7F7\"> a</span><span style=\"background-color: #FFFBFB\"> ten</span><span style=\"background-color: #FFFEFE\"> which</span><span style=\"background-color: #FFFCFC\"> is</span><span style=\"background-color: #FFFEFE\"> very</span><span style=\"background-color: #FFECEC\"> rare</span><span style=\"background-color: #FFFEFE\"> for</span><span style=\"background-color: #FFFDFD\"> me</span><span style=\"background-color: #FFFEFE\"> .</span><span style=\"background-color: #FFFCFC\"> the</span><span style=\"background-color: #FFE6E6\"> main</span><span style=\"background-color: #FF9B9B\"> reason</span><span style=\"background-color: #FFFAFA\"> i</span><span style=\"background-color: #FFFAFA\"> am</span><span style=\"background-color: #FFEDED\"> commenting</span><span style=\"background-color: #FFFDFD\"> on</span><span style=\"background-color: #FFF5F5\"> this</span><span style=\"background-color: #FFFCFC\"> though</span><span style=\"background-color: #FFD3D3\"> cause</span><span style=\"background-color: #FFF8F8\"> i</span><span style=\"background-color: #FFF2F2\"> could</span><span style=\"background-color: #FFF6F6\"> just</span><span style=\"background-color: #FFF0F0\"> rave</span><span style=\"background-color: #FFFBFB\"> all</span><span style=\"background-color: #FFFCFC\"> night</span><span style=\"background-color: #FFFCFC\"> is</span><span style=\"background-color: #FFFAFA\"> all</span><span style=\"background-color: #FFFDFD\"> those</span><span style=\"background-color: #FFFDFD\"> people</span><span style=\"background-color: #FFFEFE\"> who</span><span style=\"background-color: #FFF4F4\"> have</span><span style=\"background-color: #FF3D3D\"> seen</span><span style=\"background-color: #FFFDFD\"> it</span><span style=\"background-color: #FFFCFC\"> on</span><span style=\"background-color: #FFE0E0\"> vhs</span><span style=\"background-color: #FFACAC\"> standard</span><span style=\"background-color: #FFFAFA\"> issue</span><span style=\"background-color: #FFFEFE\"> .</span><span style=\"background-color: #FFFEFE\"> .</span><span style=\"background-color: #FFFEFE\"> .</span><span style=\"background-color: #FFFBFB\"> what</span><span style=\"background-color: #FFFAFA\"> are</span><span style=\"background-color: #FFFBFB\"> you</span><span style=\"background-color: #FFDFDF\"> thinking</span><span style=\"background-color: #FFF7F7\"> this</span><span style=\"background-color: #FFEDED\"> deserves</span><span style=\"background-color: #FFFDFD\"> the</span><span style=\"background-color: #FFEDED\"> full</span><span style=\"background-color: #FFF2F2\"> screen</span><span style=\"background-color: #FFD7D7\"> experience</span><span style=\"background-color: #FFFEFE\"> .</span><span style=\"background-color: #FFF7F7\"> look</span><span style=\"background-color: #FFFEFE\"> at</span><span style=\"background-color: #FFFDFD\"> the</span><span style=\"background-color: #FFFDFD\"> ratio</span><span style=\"background-color: #FFFDFD\"> it</span><span style=\"background-color: #FFF3F3\"> was</span><span style=\"background-color: #FFF7F7\"> shot</span><span style=\"background-color: #FFFEFE\"> in</span><span style=\"background-color: #FFFAFA\"> i</span><span style=\"background-color: #FFADAD\"> saw</span><span style=\"background-color: #FFFEFE\"> it</span><span style=\"background-color: #FFFCFC\"> 5</span><span style=\"background-color: #FFF9F9\"> times</span><span style=\"background-color: #FFFEFE\"> at</span><span style=\"background-color: #FFFDFD\"> the</span><span style=\"background-color: #FFF6F6\"> cinema</span><span style=\"background-color: #FFFEFE\"> and</span><span style=\"background-color: #FFBEBE\"> haven</span><span style=\"background-color: #FFFAFA\"> t</span><span style=\"background-color: #FF5C5C\"> bothered</span><span style=\"background-color: #FFFEFE\"> to</span><span style=\"background-color: #FFEBEB\"> watch</span><span style=\"background-color: #FFFDFD\"> it</span><span style=\"background-color: #FFFDFD\"> on</span><span style=\"background-color: #FFE9E9\"> video</span><span style=\"background-color: #FFFEFE\"> .</span><span style=\"background-color: #FFF7F7\"> nuff</span><span style=\"background-color: #FFE8E8\"> said</span><span style=\"background-color: #FFF9F9\"> <eos></span><span style=\"background-color: #FFFFFF\"> <pad></span><span style=\"background-color: #FFFFFF\"> <pad></span><span style=\"background-color: #FFFFFF\"> <pad></span><span style=\"background-color: #FFFFFF\"> <pad></span><span style=\"background-color: #FFFFFF\"> <pad></span><span style=\"background-color: #FFFFFF\"> <pad></span><span style=\"background-color: #FFFFFF\"> <pad></span><span style=\"background-color: #FFFFFF\"> <pad></span><span style=\"background-color: #FFFFFF\"> <pad></span><span style=\"background-color: #FFFFFF\"> <pad></span><span style=\"background-color: #FFFFFF\"> <pad></span><span style=\"background-color: #FFFFFF\"> <pad></span><span style=\"background-color: #FFFFFF\"> <pad></span><span style=\"background-color: #FFFFFF\"> <pad></span><span style=\"background-color: #FFFFFF\"> <pad></span><span style=\"background-color: #FFFFFF\"> <pad></span><span style=\"background-color: #FFFFFF\"> <pad></span><span style=\"background-color: #FFFFFF\"> <pad></span><span style=\"background-color: #FFFFFF\"> <pad></span><span style=\"background-color: #FFFFFF\"> <pad></span><span style=\"background-color: #FFFFFF\"> <pad></span><span style=\"background-color: #FFFFFF\"> <pad></span><span style=\"background-color: #FFFFFF\"> <pad></span><span style=\"background-color: #FFFFFF\"> <pad></span><span style=\"background-color: #FFFFFF\"> <pad></span><span style=\"background-color: #FFFFFF\"> <pad></span><span style=\"background-color: #FFFFFF\"> <pad></span><span style=\"background-color: #FFFFFF\"> <pad></span><span style=\"background-color: #FFFFFF\"> <pad></span><span style=\"background-color: #FFFFFF\"> <pad></span><span style=\"background-color: #FFFFFF\"> <pad></span><span style=\"background-color: #FFFFFF\"> <pad></span><span style=\"background-color: #FFFFFF\"> <pad></span><span style=\"background-color: #FFFFFF\"> <pad></span><span style=\"background-color: #FFFFFF\"> <pad></span><span style=\"background-color: #FFFFFF\"> <pad></span><span style=\"background-color: #FFFFFF\"> <pad></span><span style=\"background-color: #FFFFFF\"> <pad></span><span style=\"background-color: #FFFFFF\"> <pad></span><span style=\"background-color: #FFFFFF\"> <pad></span><span style=\"background-color: #FFFFFF\"> <pad></span><span style=\"background-color: #FFFFFF\"> <pad></span><span style=\"background-color: #FFFFFF\"> <pad></span><span style=\"background-color: #FFFFFF\"> <pad></span><span style=\"background-color: #FFFFFF\"> <pad></span><span style=\"background-color: #FFFFFF\"> <pad></span><span style=\"background-color: #FFFFFF\"> <pad></span><span style=\"background-color: #FFFFFF\"> <pad></span><span style=\"background-color: #FFFFFF\"> <pad></span><span style=\"background-color: #FFFFFF\"> <pad></span><span style=\"background-color: #FFFFFF\"> <pad></span><span style=\"background-color: #FFFFFF\"> <pad></span><span style=\"background-color: #FFFFFF\"> <pad></span><span style=\"background-color: #FFFFFF\"> <pad></span><span style=\"background-color: #FFFFFF\"> <pad></span><span style=\"background-color: #FFFFFF\"> <pad></span><span style=\"background-color: #FFFFFF\"> <pad></span><span style=\"background-color: #FFFFFF\"> <pad></span><span style=\"background-color: #FFFFFF\"> <pad></span><span style=\"background-color: #FFFFFF\"> <pad></span><span style=\"background-color: #FFFFFF\"> <pad></span><span style=\"background-color: #FFFFFF\"> <pad></span><span style=\"background-color: #FFFFFF\"> <pad></span><span style=\"background-color: #FFFFFF\"> <pad></span><span style=\"background-color: #FFFFFF\"> <pad></span><span style=\"background-color: #FFFFFF\"> <pad></span><span style=\"background-color: #FFFFFF\"> <pad></span><span style=\"background-color: #FFFFFF\"> <pad></span><span style=\"background-color: #FFFFFF\"> <pad></span><span style=\"background-color: #FFFFFF\"> <pad></span><span style=\"background-color: #FFFFFF\"> <pad></span><span style=\"background-color: #FFFFFF\"> <pad></span><span style=\"background-color: #FFFFFF\"> <pad></span><span style=\"background-color: #FFFFFF\"> <pad></span><span style=\"background-color: #FFFFFF\"> <pad></span><span style=\"background-color: #FFFFFF\"> <pad></span><span style=\"background-color: #FFFFFF\"> <pad></span><span style=\"background-color: #FFFFFF\"> <pad></span><span style=\"background-color: #FFFFFF\"> <pad></span><span style=\"background-color: #FFFFFF\"> <pad></span><span style=\"background-color: #FFFFFF\"> <pad></span><span style=\"background-color: #FFFFFF\"> <pad></span><span style=\"background-color: #FFFFFF\"> <pad></span><span style=\"background-color: #FFFFFF\"> <pad></span><span style=\"background-color: #FFFFFF\"> <pad></span><span style=\"background-color: #FFFFFF\"> <pad></span><span style=\"background-color: #FFFFFF\"> <pad></span><span style=\"background-color: #FFFFFF\"> <pad></span><span style=\"background-color: #FFFFFF\"> <pad></span><span style=\"background-color: #FFFFFF\"> <pad></span><span style=\"background-color: #FFFFFF\"> <pad></span><span style=\"background-color: #FFFFFF\"> <pad></span><span style=\"background-color: #FFFFFF\"> <pad></span><span style=\"background-color: #FFFFFF\"> <pad></span><span style=\"background-color: #FFFFFF\"> <pad></span><span style=\"background-color: #FFFFFF\"> <pad></span><span style=\"background-color: #FFFFFF\"> <pad></span><span style=\"background-color: #FFFFFF\"> <pad></span><span style=\"background-color: #FFFFFF\"> <pad></span><span style=\"background-color: #FFFFFF\"> <pad></span><span style=\"background-color: #FFFFFF\"> <pad></span><span style=\"background-color: #FFFFFF\"> <pad></span><span style=\"background-color: #FFFFFF\"> <pad></span><span style=\"background-color: #FFFFFF\"> <pad></span><span style=\"background-color: #FFFFFF\"> <pad></span><span style=\"background-color: #FFFFFF\"> <pad></span><span style=\"background-color: #FFFFFF\"> <pad></span><span style=\"background-color: #FFFFFF\"> <pad></span><span style=\"background-color: #FFFFFF\"> <pad></span><span style=\"background-color: #FFFFFF\"> <pad></span><span style=\"background-color: #FFFFFF\"> <pad></span><br><br>[TransformerBlockの2段目のAttentionを可視化]<br><span style=\"background-color: #FFFEFE\"> <cls></span><span style=\"background-color: #FFFCFC\"> this</span><span style=\"background-color: #FFFDFD\"> was</span><span style=\"background-color: #FFFEFE\"> the</span><span style=\"background-color: #FF0000\"> best</span><span style=\"background-color: #FFFCFC\"> film</span><span style=\"background-color: #FFFCFC\"> of</span><span style=\"background-color: #FFFEFE\"> 1998</span><span style=\"background-color: #FFFEFE\"> and</span><span style=\"background-color: #FFF9F9\"> one</span><span style=\"background-color: #FFFDFD\"> of</span><span style=\"background-color: #FFFEFE\"> the</span><span style=\"background-color: #FF9A9A\"> best</span><span style=\"background-color: #FFFDFD\"> of</span><span style=\"background-color: #FFFEFE\"> the</span><span style=\"background-color: #FFFDFD\"> 90</span><span style=\"background-color: #FFFCFC\"> s</span><span style=\"background-color: #FFFBFB\"> .</span><span style=\"background-color: #FFF9F9\"> yes</span><span style=\"background-color: #FFFEFE\"> ,</span><span style=\"background-color: #FFFEFE\"> it</span><span style=\"background-color: #FFD9D9\"> is</span><span style=\"background-color: #FFFDFD\"> a</span><span style=\"background-color: #FFF9F9\"> rip</span><span style=\"background-color: #FFFDFD\"> off</span><span style=\"background-color: #FFFDFD\"> of</span><span style=\"background-color: #FFFEFE\"> goodfellas</span><span style=\"background-color: #FFFCFC\"> .</span><span style=\"background-color: #FFFDFD\"> but</span><span style=\"background-color: #FFFEFE\"> as</span><span style=\"background-color: #FFFEFE\"> the</span><span style=\"background-color: #FFFDFD\"> saying</span><span style=\"background-color: #FFFBFB\"> goes</span><span style=\"background-color: #FFFEFE\"> ,</span><span style=\"background-color: #FFEAEA\"> good</span><span style=\"background-color: #FFFEFE\"> poets</span><span style=\"background-color: #FFFCFC\"> borrow</span><span style=\"background-color: #FFFEFE\"> ,</span><span style=\"background-color: #FFC6C6\"> great</span><span style=\"background-color: #FFFEFE\"> poets</span><span style=\"background-color: #FFFDFD\"> steal</span><span style=\"background-color: #FFFDFD\"> .</span><span style=\"background-color: #FFFEFE\"> and</span><span style=\"background-color: #FFFEFE\"> <unk></span><span style=\"background-color: #FFFCFC\"> has</span><span style=\"background-color: #FFFDFD\"> stolen</span><span style=\"background-color: #FFD1D1\"> brilliantly</span><span style=\"background-color: #FFFEFE\"> from</span><span style=\"background-color: #FFF6F6\"> some</span><span style=\"background-color: #FFFDFD\"> of</span><span style=\"background-color: #FFFEFE\"> the</span><span style=\"background-color: #FF8A8A\"> best</span><span style=\"background-color: #FFFEFE\"> ,</span><span style=\"background-color: #FFFDFD\"> plus</span><span style=\"background-color: #FFFEFE\"> added</span><span style=\"background-color: #FFF3F3\"> some</span><span style=\"background-color: #FFFDFD\"> genius</span><span style=\"background-color: #FFD5D5\"> touches</span><span style=\"background-color: #FFFDFD\"> of</span><span style=\"background-color: #FFFAFA\"> his</span><span style=\"background-color: #FFFDFD\"> own</span><span style=\"background-color: #FFFCFC\"> .</span><span style=\"background-color: #FFFEFE\"> i</span><span style=\"background-color: #FFFCFC\"> gave</span><span style=\"background-color: #FFFCFC\"> this</span><span style=\"background-color: #FFFEFE\"> a</span><span style=\"background-color: #FFFBFB\"> ten</span><span style=\"background-color: #FFFDFD\"> which</span><span style=\"background-color: #FFE6E6\"> is</span><span style=\"background-color: #FFE3E3\"> very</span><span style=\"background-color: #FF6E6E\"> rare</span><span style=\"background-color: #FFFEFE\"> for</span><span style=\"background-color: #FFFDFD\"> me</span><span style=\"background-color: #FFFBFB\"> .</span><span style=\"background-color: #FFFEFE\"> the</span><span style=\"background-color: #FFFDFD\"> main</span><span style=\"background-color: #FFFBFB\"> reason</span><span style=\"background-color: #FFFEFE\"> i</span><span style=\"background-color: #FFFCFC\"> am</span><span style=\"background-color: #FFFCFC\"> commenting</span><span style=\"background-color: #FFFEFE\"> on</span><span style=\"background-color: #FFFCFC\"> this</span><span style=\"background-color: #FFF9F9\"> though</span><span style=\"background-color: #FFFEFE\"> cause</span><span style=\"background-color: #FFFEFE\"> i</span><span style=\"background-color: #FFFEFE\"> could</span><span style=\"background-color: #FFFDFD\"> just</span><span style=\"background-color: #FFFEFE\"> rave</span><span style=\"background-color: #FFFAFA\"> all</span><span style=\"background-color: #FFFEFE\"> night</span><span style=\"background-color: #FFEDED\"> is</span><span style=\"background-color: #FFFAFA\"> all</span><span style=\"background-color: #FFF9F9\"> those</span><span style=\"background-color: #FFFDFD\"> people</span><span style=\"background-color: #FFFEFE\"> who</span><span style=\"background-color: #FFFDFD\"> have</span><span style=\"background-color: #FFFDFD\"> seen</span><span style=\"background-color: #FFFDFD\"> it</span><span style=\"background-color: #FFFEFE\"> on</span><span style=\"background-color: #FFFEFE\"> vhs</span><span style=\"background-color: #FFFDFD\"> standard</span><span style=\"background-color: #FFFEFE\"> issue</span><span style=\"background-color: #FFFDFD\"> .</span><span style=\"background-color: #FFFDFD\"> .</span><span style=\"background-color: #FFFCFC\"> .</span><span style=\"background-color: #FFF8F8\"> what</span><span style=\"background-color: #FFE5E5\"> are</span><span style=\"background-color: #FFFBFB\"> you</span><span style=\"background-color: #FFFEFE\"> thinking</span><span style=\"background-color: #FFFCFC\"> this</span><span style=\"background-color: #FFF6F6\"> deserves</span><span style=\"background-color: #FFFEFE\"> the</span><span style=\"background-color: #FFF7F7\"> full</span><span style=\"background-color: #FFFBFB\"> screen</span><span style=\"background-color: #FFFDFD\"> experience</span><span style=\"background-color: #FFFDFD\"> .</span><span style=\"background-color: #FFFBFB\"> look</span><span style=\"background-color: #FFFDFD\"> at</span><span style=\"background-color: #FFFEFE\"> the</span><span style=\"background-color: #FFFCFC\"> ratio</span><span style=\"background-color: #FFFEFE\"> it</span><span style=\"background-color: #FFFDFD\"> was</span><span style=\"background-color: #FFFEFE\"> shot</span><span style=\"background-color: #FFFDFD\"> in</span><span style=\"background-color: #FFFEFE\"> i</span><span style=\"background-color: #FFFDFD\"> saw</span><span style=\"background-color: #FFFEFE\"> it</span><span style=\"background-color: #FFFEFE\"> 5</span><span style=\"background-color: #FFF8F8\"> times</span><span style=\"background-color: #FFFCFC\"> at</span><span style=\"background-color: #FFFEFE\"> the</span><span style=\"background-color: #FFFEFE\"> cinema</span><span style=\"background-color: #FFFEFE\"> and</span><span style=\"background-color: #FFFDFD\"> haven</span><span style=\"background-color: #FFFCFC\"> t</span><span style=\"background-color: #FFFBFB\"> bothered</span><span style=\"background-color: #FFFEFE\"> to</span><span style=\"background-color: #FFF0F0\"> watch</span><span style=\"background-color: #FFFDFD\"> it</span><span style=\"background-color: #FFFEFE\"> on</span><span style=\"background-color: #FFFEFE\"> video</span><span style=\"background-color: #FFFCFC\"> .</span><span style=\"background-color: #FFFBFB\"> nuff</span><span style=\"background-color: #FFFEFE\"> said</span><span style=\"background-color: #FFFEFE\"> <eos></span><span style=\"background-color: #FFFFFF\"> <pad></span><span style=\"background-color: #FFFFFF\"> <pad></span><span style=\"background-color: #FFFFFF\"> <pad></span><span style=\"background-color: #FFFFFF\"> <pad></span><span style=\"background-color: #FFFFFF\"> <pad></span><span style=\"background-color: #FFFFFF\"> <pad></span><span style=\"background-color: #FFFFFF\"> <pad></span><span style=\"background-color: #FFFFFF\"> <pad></span><span style=\"background-color: #FFFFFF\"> <pad></span><span style=\"background-color: #FFFFFF\"> <pad></span><span style=\"background-color: #FFFFFF\"> <pad></span><span style=\"background-color: #FFFFFF\"> <pad></span><span style=\"background-color: #FFFFFF\"> <pad></span><span style=\"background-color: #FFFFFF\"> <pad></span><span style=\"background-color: #FFFFFF\"> <pad></span><span style=\"background-color: #FFFFFF\"> <pad></span><span style=\"background-color: #FFFFFF\"> <pad></span><span style=\"background-color: #FFFFFF\"> <pad></span><span style=\"background-color: #FFFFFF\"> <pad></span><span style=\"background-color: #FFFFFF\"> <pad></span><span style=\"background-color: #FFFFFF\"> <pad></span><span style=\"background-color: #FFFFFF\"> <pad></span><span style=\"background-color: #FFFFFF\"> <pad></span><span style=\"background-color: #FFFFFF\"> <pad></span><span style=\"background-color: #FFFFFF\"> <pad></span><span style=\"background-color: #FFFFFF\"> <pad></span><span style=\"background-color: #FFFFFF\"> <pad></span><span style=\"background-color: #FFFFFF\"> <pad></span><span style=\"background-color: #FFFFFF\"> <pad></span><span style=\"background-color: #FFFFFF\"> <pad></span><span style=\"background-color: #FFFFFF\"> <pad></span><span style=\"background-color: #FFFFFF\"> <pad></span><span style=\"background-color: #FFFFFF\"> <pad></span><span style=\"background-color: #FFFFFF\"> <pad></span><span style=\"background-color: #FFFFFF\"> <pad></span><span style=\"background-color: #FFFFFF\"> <pad></span><span style=\"background-color: #FFFFFF\"> <pad></span><span style=\"background-color: #FFFFFF\"> <pad></span><span style=\"background-color: #FFFFFF\"> <pad></span><span style=\"background-color: #FFFFFF\"> <pad></span><span style=\"background-color: #FFFFFF\"> <pad></span><span style=\"background-color: #FFFFFF\"> <pad></span><span style=\"background-color: #FFFFFF\"> <pad></span><span style=\"background-color: #FFFFFF\"> <pad></span><span style=\"background-color: #FFFFFF\"> <pad></span><span style=\"background-color: #FFFFFF\"> <pad></span><span style=\"background-color: #FFFFFF\"> <pad></span><span style=\"background-color: #FFFFFF\"> <pad></span><span style=\"background-color: #FFFFFF\"> <pad></span><span style=\"background-color: #FFFFFF\"> <pad></span><span style=\"background-color: #FFFFFF\"> <pad></span><span style=\"background-color: #FFFFFF\"> <pad></span><span style=\"background-color: #FFFFFF\"> <pad></span><span style=\"background-color: #FFFFFF\"> <pad></span><span style=\"background-color: #FFFFFF\"> <pad></span><span style=\"background-color: #FFFFFF\"> <pad></span><span style=\"background-color: #FFFFFF\"> <pad></span><span style=\"background-color: #FFFFFF\"> <pad></span><span style=\"background-color: #FFFFFF\"> <pad></span><span style=\"background-color: #FFFFFF\"> <pad></span><span style=\"background-color: #FFFFFF\"> <pad></span><span style=\"background-color: #FFFFFF\"> <pad></span><span style=\"background-color: #FFFFFF\"> <pad></span><span style=\"background-color: #FFFFFF\"> <pad></span><span style=\"background-color: #FFFFFF\"> <pad></span><span style=\"background-color: #FFFFFF\"> <pad></span><span style=\"background-color: #FFFFFF\"> <pad></span><span style=\"background-color: #FFFFFF\"> <pad></span><span style=\"background-color: #FFFFFF\"> <pad></span><span style=\"background-color: #FFFFFF\"> <pad></span><span style=\"background-color: #FFFFFF\"> <pad></span><span style=\"background-color: #FFFFFF\"> <pad></span><span style=\"background-color: #FFFFFF\"> <pad></span><span style=\"background-color: #FFFFFF\"> <pad></span><span style=\"background-color: #FFFFFF\"> <pad></span><span style=\"background-color: #FFFFFF\"> <pad></span><span style=\"background-color: #FFFFFF\"> <pad></span><span style=\"background-color: #FFFFFF\"> <pad></span><span style=\"background-color: #FFFFFF\"> <pad></span><span style=\"background-color: #FFFFFF\"> <pad></span><span style=\"background-color: #FFFFFF\"> <pad></span><span style=\"background-color: #FFFFFF\"> <pad></span><span style=\"background-color: #FFFFFF\"> <pad></span><span style=\"background-color: #FFFFFF\"> <pad></span><span style=\"background-color: #FFFFFF\"> <pad></span><span style=\"background-color: #FFFFFF\"> <pad></span><span style=\"background-color: #FFFFFF\"> <pad></span><span style=\"background-color: #FFFFFF\"> <pad></span><span style=\"background-color: #FFFFFF\"> <pad></span><span style=\"background-color: #FFFFFF\"> <pad></span><span style=\"background-color: #FFFFFF\"> <pad></span><span style=\"background-color: #FFFFFF\"> <pad></span><span style=\"background-color: #FFFFFF\"> <pad></span><span style=\"background-color: #FFFFFF\"> <pad></span><span style=\"background-color: #FFFFFF\"> <pad></span><span style=\"background-color: #FFFFFF\"> <pad></span><span style=\"background-color: #FFFFFF\"> <pad></span><span style=\"background-color: #FFFFFF\"> <pad></span><span style=\"background-color: #FFFFFF\"> <pad></span><span style=\"background-color: #FFFFFF\"> <pad></span><span style=\"background-color: #FFFFFF\"> <pad></span><span style=\"background-color: #FFFFFF\"> <pad></span><span style=\"background-color: #FFFFFF\"> <pad></span><span style=\"background-color: #FFFFFF\"> <pad></span><span style=\"background-color: #FFFFFF\"> <pad></span><span style=\"background-color: #FFFFFF\"> <pad></span><span style=\"background-color: #FFFFFF\"> <pad></span><span style=\"background-color: #FFFFFF\"> <pad></span><span style=\"background-color: #FFFFFF\"> <pad></span><span style=\"background-color: #FFFFFF\"> <pad></span><span style=\"background-color: #FFFFFF\"> <pad></span><br><br>"
            ],
            "text/plain": [
              "<IPython.core.display.HTML object>"
            ]
          },
          "metadata": {},
          "execution_count": 20
        }
      ]
    },
    {
      "cell_type": "markdown",
      "source": [
        "うまくattentionかけられてる"
      ],
      "metadata": {
        "id": "Hujg7-EEz8Ui"
      }
    },
    {
      "cell_type": "code",
      "source": [
        "index = 9  # 出力させたいデータ\n",
        "html_output = mk_html(index, batch, preds, normlized_weights_1,\n",
        "                      normlized_weights_2, TEXT)  # HTML作成\n",
        "HTML(html_output)  # HTML形式で出力"
      ],
      "metadata": {
        "colab": {
          "base_uri": "https://localhost:8080/",
          "height": 276
        },
        "id": "m-wmct9Ay_-f",
        "outputId": "c61a6128-e229-43ad-9a03-8cc4f658be41"
      },
      "execution_count": null,
      "outputs": [
        {
          "output_type": "execute_result",
          "data": {
            "text/html": [
              "正解ラベル：Positive<br>推論ラベル：Negative<br><br>[TransformerBlockの1段目のAttentionを可視化]<br><span style=\"background-color: #FFF9F9\"> <cls></span><span style=\"background-color: #FFE2E2\"> simon</span><span style=\"background-color: #FFF5F5\"> <unk></span><span style=\"background-color: #FFCECE\"> pg</span><span style=\"background-color: #FFFAFA\"> 13</span><span style=\"background-color: #FF3131\"> thriller</span><span style=\"background-color: #FFFDFD\"> about</span><span style=\"background-color: #FFF9F9\"> a</span><span style=\"background-color: #FFEDED\"> babysitter</span><span style=\"background-color: #FFFEFE\"> who</span><span style=\"background-color: #FFFDFD\"> gets</span><span style=\"background-color: #FFF3F3\"> disturbing</span><span style=\"background-color: #FFD9D9\"> prank</span><span style=\"background-color: #FFCACA\"> calls</span><span style=\"background-color: #FFFEFE\"> while</span><span style=\"background-color: #FFF6F6\"> sitting</span><span style=\"background-color: #FFFEFE\"> at</span><span style=\"background-color: #FFFAFA\"> a</span><span style=\"background-color: #FFE4E4\"> mansion</span><span style=\"background-color: #FFFCFC\"> is</span><span style=\"background-color: #FFF7F7\"> neither</span><span style=\"background-color: #FF0000\"> original</span><span style=\"background-color: #FFF7F7\"> nor</span><span style=\"background-color: #FFB8B8\"> exciting</span><span style=\"background-color: #FFEDED\"> enough</span><span style=\"background-color: #FFFCFC\"> to</span><span style=\"background-color: #FFFCFC\"> be</span><span style=\"background-color: #FFECEC\"> called</span><span style=\"background-color: #FFF9F9\"> a</span><span style=\"background-color: #FF7D7D\"> good</span><span style=\"background-color: #FFEFEF\"> film</span><span style=\"background-color: #FFFEFE\"> .</span><span style=\"background-color: #FFFCFC\"> although</span><span style=\"background-color: #FFFCFC\"> there</span><span style=\"background-color: #FFF9F9\"> are</span><span style=\"background-color: #FFFCFC\"> some</span><span style=\"background-color: #FFF7F7\"> elements</span><span style=\"background-color: #FFFCFC\"> of</span><span style=\"background-color: #FFBBBB\"> suspense</span><span style=\"background-color: #FFFEFE\"> ,</span><span style=\"background-color: #FF6262\"> good</span><span style=\"background-color: #FFD5D5\"> eye</span><span style=\"background-color: #FFF8F8\"> candy</span><span style=\"background-color: #FFFEFE\"> and</span><span style=\"background-color: #FFC2C2\"> decent</span><span style=\"background-color: #FFEAEA\"> characters</span><span style=\"background-color: #FFFEFE\"> ,</span><span style=\"background-color: #FFFCFC\"> the</span><span style=\"background-color: #FFE6E6\"> film</span><span style=\"background-color: #FFFAFA\"> is</span><span style=\"background-color: #FFEEEE\"> just</span><span style=\"background-color: #FFF9F9\"> another</span><span style=\"background-color: #FFF7F7\"> i</span><span style=\"background-color: #FFF7F7\"> know</span><span style=\"background-color: #FFFCFC\"> what</span><span style=\"background-color: #FFFCFC\"> you</span><span style=\"background-color: #FFDADA\"> did</span><span style=\"background-color: #FFF2F2\"> last</span><span style=\"background-color: #FFF0F0\"> summer</span><span style=\"background-color: #FFFEFE\"> ,</span><span style=\"background-color: #FFFEFE\"> as</span><span style=\"background-color: #FFFCFC\"> it</span><span style=\"background-color: #FFF9F9\"> falls</span><span style=\"background-color: #FFF8F8\"> short</span><span style=\"background-color: #FFFAFA\"> of</span><span style=\"background-color: #FFF7F7\"> being</span><span style=\"background-color: #FF5050\"> taken</span><span style=\"background-color: #FFE7E7\"> seriously</span><span style=\"background-color: #FFFEFE\"> .</span><span style=\"background-color: #FFFCFC\"> the</span><span style=\"background-color: #FFBABA\"> performances</span><span style=\"background-color: #FFF0F0\"> were</span><span style=\"background-color: #FFE8E8\"> alright</span><span style=\"background-color: #FFFEFE\"> ,</span><span style=\"background-color: #FFFEFE\"> but</span><span style=\"background-color: #FF7B7B\"> nothing</span><span style=\"background-color: #FFF4F4\"> special</span><span style=\"background-color: #FFFEFE\"> with</span><span style=\"background-color: #FFF6F6\"> this</span><span style=\"background-color: #FF8989\"> flick</span><span style=\"background-color: #FFFEFE\"> ,</span><span style=\"background-color: #FFF5F5\"> i</span><span style=\"background-color: #FFFCFC\"> say</span><span style=\"background-color: #FFFBFB\"> skip</span><span style=\"background-color: #FFFCFC\"> it</span><span style=\"background-color: #FFFEFE\"> ,</span><span style=\"background-color: #FFFEFE\"> unless</span><span style=\"background-color: #FFFBFB\"> you</span><span style=\"background-color: #FFFAFA\"> are</span><span style=\"background-color: #FFEDED\"> looking</span><span style=\"background-color: #FFFDFD\"> for</span><span style=\"background-color: #FFF7F7\"> a</span><span style=\"background-color: #FF8080\"> mediocre</span><span style=\"background-color: #FFCDCD\"> movie</span><span style=\"background-color: #FFFEFE\"> ,</span><span style=\"background-color: #FFFBFB\"> you</span><span style=\"background-color: #FFDCDC\"> can</span><span style=\"background-color: #FFE7E7\"> find</span><span style=\"background-color: #FFABAB\"> better</span><span style=\"background-color: #FFC0C0\"> films</span><span style=\"background-color: #FFF9F9\"> than</span><span style=\"background-color: #FFF3F3\"> this</span><span style=\"background-color: #FFFBFB\"> on</span><span style=\"background-color: #FFDFDF\"> lifetime</span><span style=\"background-color: #FFF9F9\"> sometimes</span><span style=\"background-color: #FFFEFE\"> ,</span><span style=\"background-color: #FFEEEE\"> okay</span><span style=\"background-color: #FFFDFD\"> maybe</span><span style=\"background-color: #FFE4E4\"> not</span><span style=\"background-color: #FFE5E5\"> lifetime</span><span style=\"background-color: #FFFEFE\"> but</span><span style=\"background-color: #FFFEFE\"> at</span><span style=\"background-color: #FFFDFD\"> least</span><span style=\"background-color: #FFE5E5\"> usa</span><span style=\"background-color: #FFFEFE\"> or</span><span style=\"background-color: #FFFBFB\"> <unk></span><span style=\"background-color: #FFFEFE\"> ,</span><span style=\"background-color: #FFF6F6\"> haha</span><span style=\"background-color: #FFFEFE\"> .</span><span style=\"background-color: #FFFEFE\"> .</span><span style=\"background-color: #FFFEFE\"> .</span><span style=\"background-color: #FFFEFE\"> .</span><span style=\"background-color: #FFFAFA\"> 7</span><span style=\"background-color: #FFFAFA\"> 10</span><span style=\"background-color: #FFFDFD\"> <eos></span><span style=\"background-color: #FFFFFF\"> <pad></span><span style=\"background-color: #FFFFFF\"> <pad></span><span style=\"background-color: #FFFFFF\"> <pad></span><span style=\"background-color: #FFFFFF\"> <pad></span><span style=\"background-color: #FFFFFF\"> <pad></span><span style=\"background-color: #FFFFFF\"> <pad></span><span style=\"background-color: #FFFFFF\"> <pad></span><span style=\"background-color: #FFFFFF\"> <pad></span><span style=\"background-color: #FFFFFF\"> <pad></span><span style=\"background-color: #FFFFFF\"> <pad></span><span style=\"background-color: #FFFFFF\"> <pad></span><span style=\"background-color: #FFFFFF\"> <pad></span><span style=\"background-color: #FFFFFF\"> <pad></span><span style=\"background-color: #FFFFFF\"> <pad></span><span style=\"background-color: #FFFFFF\"> <pad></span><span style=\"background-color: #FFFFFF\"> <pad></span><span style=\"background-color: #FFFFFF\"> <pad></span><span style=\"background-color: #FFFFFF\"> <pad></span><span style=\"background-color: #FFFFFF\"> <pad></span><span style=\"background-color: #FFFFFF\"> <pad></span><span style=\"background-color: #FFFFFF\"> <pad></span><span style=\"background-color: #FFFFFF\"> <pad></span><span style=\"background-color: #FFFFFF\"> <pad></span><span style=\"background-color: #FFFFFF\"> <pad></span><span style=\"background-color: #FFFFFF\"> <pad></span><span style=\"background-color: #FFFFFF\"> <pad></span><span style=\"background-color: #FFFFFF\"> <pad></span><span style=\"background-color: #FFFFFF\"> <pad></span><span style=\"background-color: #FFFFFF\"> <pad></span><span style=\"background-color: #FFFFFF\"> <pad></span><span style=\"background-color: #FFFFFF\"> <pad></span><span style=\"background-color: #FFFFFF\"> <pad></span><span style=\"background-color: #FFFFFF\"> <pad></span><span style=\"background-color: #FFFFFF\"> <pad></span><span style=\"background-color: #FFFFFF\"> <pad></span><span style=\"background-color: #FFFFFF\"> <pad></span><span style=\"background-color: #FFFFFF\"> <pad></span><span style=\"background-color: #FFFFFF\"> <pad></span><span style=\"background-color: #FFFFFF\"> <pad></span><span style=\"background-color: #FFFFFF\"> <pad></span><span style=\"background-color: #FFFFFF\"> <pad></span><span style=\"background-color: #FFFFFF\"> <pad></span><span style=\"background-color: #FFFFFF\"> <pad></span><span style=\"background-color: #FFFFFF\"> <pad></span><span style=\"background-color: #FFFFFF\"> <pad></span><span style=\"background-color: #FFFFFF\"> <pad></span><span style=\"background-color: #FFFFFF\"> <pad></span><span style=\"background-color: #FFFFFF\"> <pad></span><span style=\"background-color: #FFFFFF\"> <pad></span><span style=\"background-color: #FFFFFF\"> <pad></span><span style=\"background-color: #FFFFFF\"> <pad></span><span style=\"background-color: #FFFFFF\"> <pad></span><span style=\"background-color: #FFFFFF\"> <pad></span><span style=\"background-color: #FFFFFF\"> <pad></span><span style=\"background-color: #FFFFFF\"> <pad></span><span style=\"background-color: #FFFFFF\"> <pad></span><span style=\"background-color: #FFFFFF\"> <pad></span><span style=\"background-color: #FFFFFF\"> <pad></span><span style=\"background-color: #FFFFFF\"> <pad></span><span style=\"background-color: #FFFFFF\"> <pad></span><span style=\"background-color: #FFFFFF\"> <pad></span><span style=\"background-color: #FFFFFF\"> <pad></span><span style=\"background-color: #FFFFFF\"> <pad></span><span style=\"background-color: #FFFFFF\"> <pad></span><span style=\"background-color: #FFFFFF\"> <pad></span><span style=\"background-color: #FFFFFF\"> <pad></span><span style=\"background-color: #FFFFFF\"> <pad></span><span style=\"background-color: #FFFFFF\"> <pad></span><span style=\"background-color: #FFFFFF\"> <pad></span><span style=\"background-color: #FFFFFF\"> <pad></span><span style=\"background-color: #FFFFFF\"> <pad></span><span style=\"background-color: #FFFFFF\"> <pad></span><span style=\"background-color: #FFFFFF\"> <pad></span><span style=\"background-color: #FFFFFF\"> <pad></span><span style=\"background-color: #FFFFFF\"> <pad></span><span style=\"background-color: #FFFFFF\"> <pad></span><span style=\"background-color: #FFFFFF\"> <pad></span><span style=\"background-color: #FFFFFF\"> <pad></span><span style=\"background-color: #FFFFFF\"> <pad></span><span style=\"background-color: #FFFFFF\"> <pad></span><span style=\"background-color: #FFFFFF\"> <pad></span><span style=\"background-color: #FFFFFF\"> <pad></span><span style=\"background-color: #FFFFFF\"> <pad></span><span style=\"background-color: #FFFFFF\"> <pad></span><span style=\"background-color: #FFFFFF\"> <pad></span><span style=\"background-color: #FFFFFF\"> <pad></span><span style=\"background-color: #FFFFFF\"> <pad></span><span style=\"background-color: #FFFFFF\"> <pad></span><span style=\"background-color: #FFFFFF\"> <pad></span><span style=\"background-color: #FFFFFF\"> <pad></span><span style=\"background-color: #FFFFFF\"> <pad></span><span style=\"background-color: #FFFFFF\"> <pad></span><span style=\"background-color: #FFFFFF\"> <pad></span><span style=\"background-color: #FFFFFF\"> <pad></span><span style=\"background-color: #FFFFFF\"> <pad></span><span style=\"background-color: #FFFFFF\"> <pad></span><span style=\"background-color: #FFFFFF\"> <pad></span><span style=\"background-color: #FFFFFF\"> <pad></span><span style=\"background-color: #FFFFFF\"> <pad></span><span style=\"background-color: #FFFFFF\"> <pad></span><span style=\"background-color: #FFFFFF\"> <pad></span><span style=\"background-color: #FFFFFF\"> <pad></span><span style=\"background-color: #FFFFFF\"> <pad></span><span style=\"background-color: #FFFFFF\"> <pad></span><span style=\"background-color: #FFFFFF\"> <pad></span><span style=\"background-color: #FFFFFF\"> <pad></span><span style=\"background-color: #FFFFFF\"> <pad></span><span style=\"background-color: #FFFFFF\"> <pad></span><span style=\"background-color: #FFFFFF\"> <pad></span><span style=\"background-color: #FFFFFF\"> <pad></span><span style=\"background-color: #FFFFFF\"> <pad></span><span style=\"background-color: #FFFFFF\"> <pad></span><span style=\"background-color: #FFFFFF\"> <pad></span><span style=\"background-color: #FFFFFF\"> <pad></span><span style=\"background-color: #FFFFFF\"> <pad></span><span style=\"background-color: #FFFFFF\"> <pad></span><span style=\"background-color: #FFFFFF\"> <pad></span><span style=\"background-color: #FFFFFF\"> <pad></span><span style=\"background-color: #FFFFFF\"> <pad></span><span style=\"background-color: #FFFFFF\"> <pad></span><span style=\"background-color: #FFFFFF\"> <pad></span><span style=\"background-color: #FFFFFF\"> <pad></span><span style=\"background-color: #FFFFFF\"> <pad></span><span style=\"background-color: #FFFFFF\"> <pad></span><span style=\"background-color: #FFFFFF\"> <pad></span><span style=\"background-color: #FFFFFF\"> <pad></span><span style=\"background-color: #FFFFFF\"> <pad></span><span style=\"background-color: #FFFFFF\"> <pad></span><span style=\"background-color: #FFFFFF\"> <pad></span><span style=\"background-color: #FFFFFF\"> <pad></span><span style=\"background-color: #FFFFFF\"> <pad></span><br><br>[TransformerBlockの2段目のAttentionを可視化]<br><span style=\"background-color: #FFFEFE\"> <cls></span><span style=\"background-color: #FFFEFE\"> simon</span><span style=\"background-color: #FFFEFE\"> <unk></span><span style=\"background-color: #FFDDDD\"> pg</span><span style=\"background-color: #FFFEFE\"> 13</span><span style=\"background-color: #FFE6E6\"> thriller</span><span style=\"background-color: #FFFCFC\"> about</span><span style=\"background-color: #FFFCFC\"> a</span><span style=\"background-color: #FFFEFE\"> babysitter</span><span style=\"background-color: #FFFEFE\"> who</span><span style=\"background-color: #FFFCFC\"> gets</span><span style=\"background-color: #FFEFEF\"> disturbing</span><span style=\"background-color: #FFFEFE\"> prank</span><span style=\"background-color: #FFFEFE\"> calls</span><span style=\"background-color: #FFF2F2\"> while</span><span style=\"background-color: #FFFDFD\"> sitting</span><span style=\"background-color: #FFFEFE\"> at</span><span style=\"background-color: #FFFDFD\"> a</span><span style=\"background-color: #FFFEFE\"> mansion</span><span style=\"background-color: #FFF7F7\"> is</span><span style=\"background-color: #FF8F8F\"> neither</span><span style=\"background-color: #FFFEFE\"> original</span><span style=\"background-color: #FFF3F3\"> nor</span><span style=\"background-color: #FFD9D9\"> exciting</span><span style=\"background-color: #FFF4F4\"> enough</span><span style=\"background-color: #FFFEFE\"> to</span><span style=\"background-color: #FFF9F9\"> be</span><span style=\"background-color: #FFFEFE\"> called</span><span style=\"background-color: #FFFDFD\"> a</span><span style=\"background-color: #FF5555\"> good</span><span style=\"background-color: #FFFDFD\"> film</span><span style=\"background-color: #FFFDFD\"> .</span><span style=\"background-color: #FFF0F0\"> although</span><span style=\"background-color: #FFFAFA\"> there</span><span style=\"background-color: #FFEEEE\"> are</span><span style=\"background-color: #FFD1D1\"> some</span><span style=\"background-color: #FFFAFA\"> elements</span><span style=\"background-color: #FFFDFD\"> of</span><span style=\"background-color: #FFE2E2\"> suspense</span><span style=\"background-color: #FFFEFE\"> ,</span><span style=\"background-color: #FFA5A5\"> good</span><span style=\"background-color: #FFFEFE\"> eye</span><span style=\"background-color: #FFFEFE\"> candy</span><span style=\"background-color: #FFFDFD\"> and</span><span style=\"background-color: #FF9F9F\"> decent</span><span style=\"background-color: #FFFEFE\"> characters</span><span style=\"background-color: #FFFEFE\"> ,</span><span style=\"background-color: #FFFEFE\"> the</span><span style=\"background-color: #FFFEFE\"> film</span><span style=\"background-color: #FFF7F7\"> is</span><span style=\"background-color: #FFF9F9\"> just</span><span style=\"background-color: #FFF7F7\"> another</span><span style=\"background-color: #FFFDFD\"> i</span><span style=\"background-color: #FFFCFC\"> know</span><span style=\"background-color: #FFF8F8\"> what</span><span style=\"background-color: #FFFCFC\"> you</span><span style=\"background-color: #FFFEFE\"> did</span><span style=\"background-color: #FFFAFA\"> last</span><span style=\"background-color: #FFF8F8\"> summer</span><span style=\"background-color: #FFFDFD\"> ,</span><span style=\"background-color: #FFFDFD\"> as</span><span style=\"background-color: #FFFBFB\"> it</span><span style=\"background-color: #FFFBFB\"> falls</span><span style=\"background-color: #FFDCDC\"> short</span><span style=\"background-color: #FFFEFE\"> of</span><span style=\"background-color: #FFFDFD\"> being</span><span style=\"background-color: #FFFEFE\"> taken</span><span style=\"background-color: #FFAFAF\"> seriously</span><span style=\"background-color: #FFFCFC\"> .</span><span style=\"background-color: #FFFEFE\"> the</span><span style=\"background-color: #FFFEFE\"> performances</span><span style=\"background-color: #FFFCFC\"> were</span><span style=\"background-color: #FFB3B3\"> alright</span><span style=\"background-color: #FFFDFD\"> ,</span><span style=\"background-color: #FFF1F1\"> but</span><span style=\"background-color: #FF0000\"> nothing</span><span style=\"background-color: #FFFBFB\"> special</span><span style=\"background-color: #FFFCFC\"> with</span><span style=\"background-color: #FFFAFA\"> this</span><span style=\"background-color: #FFF3F3\"> flick</span><span style=\"background-color: #FFFDFD\"> ,</span><span style=\"background-color: #FFFDFD\"> i</span><span style=\"background-color: #FFFDFD\"> say</span><span style=\"background-color: #FFF3F3\"> skip</span><span style=\"background-color: #FFFCFC\"> it</span><span style=\"background-color: #FFFEFE\"> ,</span><span style=\"background-color: #FFF5F5\"> unless</span><span style=\"background-color: #FFFCFC\"> you</span><span style=\"background-color: #FFF0F0\"> are</span><span style=\"background-color: #FFFAFA\"> looking</span><span style=\"background-color: #FFFDFD\"> for</span><span style=\"background-color: #FFFCFC\"> a</span><span style=\"background-color: #FF2020\"> mediocre</span><span style=\"background-color: #FFFDFD\"> movie</span><span style=\"background-color: #FFFDFD\"> ,</span><span style=\"background-color: #FFFBFB\"> you</span><span style=\"background-color: #FFFDFD\"> can</span><span style=\"background-color: #FFF9F9\"> find</span><span style=\"background-color: #FFADAD\"> better</span><span style=\"background-color: #FFFDFD\"> films</span><span style=\"background-color: #FFFDFD\"> than</span><span style=\"background-color: #FFFCFC\"> this</span><span style=\"background-color: #FFFEFE\"> on</span><span style=\"background-color: #FFFCFC\"> lifetime</span><span style=\"background-color: #FFF2F2\"> sometimes</span><span style=\"background-color: #FFFEFE\"> ,</span><span style=\"background-color: #FFC4C4\"> okay</span><span style=\"background-color: #FFE5E5\"> maybe</span><span style=\"background-color: #FFFCFC\"> not</span><span style=\"background-color: #FFFBFB\"> lifetime</span><span style=\"background-color: #FFF9F9\"> but</span><span style=\"background-color: #FFFDFD\"> at</span><span style=\"background-color: #FFB8B8\"> least</span><span style=\"background-color: #FFFEFE\"> usa</span><span style=\"background-color: #FFF8F8\"> or</span><span style=\"background-color: #FFFEFE\"> <unk></span><span style=\"background-color: #FFFEFE\"> ,</span><span style=\"background-color: #FFFAFA\"> haha</span><span style=\"background-color: #FFFDFD\"> .</span><span style=\"background-color: #FFFDFD\"> .</span><span style=\"background-color: #FFFDFD\"> .</span><span style=\"background-color: #FFFDFD\"> .</span><span style=\"background-color: #FFFCFC\"> 7</span><span style=\"background-color: #FFFCFC\"> 10</span><span style=\"background-color: #FFFEFE\"> <eos></span><span style=\"background-color: #FFFFFF\"> <pad></span><span style=\"background-color: #FFFFFF\"> <pad></span><span style=\"background-color: #FFFFFF\"> <pad></span><span style=\"background-color: #FFFFFF\"> <pad></span><span style=\"background-color: #FFFFFF\"> <pad></span><span style=\"background-color: #FFFFFF\"> <pad></span><span style=\"background-color: #FFFFFF\"> <pad></span><span style=\"background-color: #FFFFFF\"> <pad></span><span style=\"background-color: #FFFFFF\"> <pad></span><span style=\"background-color: #FFFFFF\"> <pad></span><span style=\"background-color: #FFFFFF\"> <pad></span><span style=\"background-color: #FFFFFF\"> <pad></span><span style=\"background-color: #FFFFFF\"> <pad></span><span style=\"background-color: #FFFFFF\"> <pad></span><span style=\"background-color: #FFFFFF\"> <pad></span><span style=\"background-color: #FFFFFF\"> <pad></span><span style=\"background-color: #FFFFFF\"> <pad></span><span style=\"background-color: #FFFFFF\"> <pad></span><span style=\"background-color: #FFFFFF\"> <pad></span><span style=\"background-color: #FFFFFF\"> <pad></span><span style=\"background-color: #FFFFFF\"> <pad></span><span style=\"background-color: #FFFFFF\"> <pad></span><span style=\"background-color: #FFFFFF\"> <pad></span><span style=\"background-color: #FFFFFF\"> <pad></span><span style=\"background-color: #FFFFFF\"> <pad></span><span style=\"background-color: #FFFFFF\"> <pad></span><span style=\"background-color: #FFFFFF\"> <pad></span><span style=\"background-color: #FFFFFF\"> <pad></span><span style=\"background-color: #FFFFFF\"> <pad></span><span style=\"background-color: #FFFFFF\"> <pad></span><span style=\"background-color: #FFFFFF\"> <pad></span><span style=\"background-color: #FFFFFF\"> <pad></span><span style=\"background-color: #FFFFFF\"> <pad></span><span style=\"background-color: #FFFFFF\"> <pad></span><span style=\"background-color: #FFFFFF\"> <pad></span><span style=\"background-color: #FFFFFF\"> <pad></span><span style=\"background-color: #FFFFFF\"> <pad></span><span style=\"background-color: #FFFFFF\"> <pad></span><span style=\"background-color: #FFFFFF\"> <pad></span><span style=\"background-color: #FFFFFF\"> <pad></span><span style=\"background-color: #FFFFFF\"> <pad></span><span style=\"background-color: #FFFFFF\"> <pad></span><span style=\"background-color: #FFFFFF\"> <pad></span><span style=\"background-color: #FFFFFF\"> <pad></span><span style=\"background-color: #FFFFFF\"> <pad></span><span style=\"background-color: #FFFFFF\"> <pad></span><span style=\"background-color: #FFFFFF\"> <pad></span><span style=\"background-color: #FFFFFF\"> <pad></span><span style=\"background-color: #FFFFFF\"> <pad></span><span style=\"background-color: #FFFFFF\"> <pad></span><span style=\"background-color: #FFFFFF\"> <pad></span><span style=\"background-color: #FFFFFF\"> <pad></span><span style=\"background-color: #FFFFFF\"> <pad></span><span style=\"background-color: #FFFFFF\"> <pad></span><span style=\"background-color: #FFFFFF\"> <pad></span><span style=\"background-color: #FFFFFF\"> <pad></span><span style=\"background-color: #FFFFFF\"> <pad></span><span style=\"background-color: #FFFFFF\"> <pad></span><span style=\"background-color: #FFFFFF\"> <pad></span><span style=\"background-color: #FFFFFF\"> <pad></span><span style=\"background-color: #FFFFFF\"> <pad></span><span style=\"background-color: #FFFFFF\"> <pad></span><span style=\"background-color: #FFFFFF\"> <pad></span><span style=\"background-color: #FFFFFF\"> <pad></span><span style=\"background-color: #FFFFFF\"> <pad></span><span style=\"background-color: #FFFFFF\"> <pad></span><span style=\"background-color: #FFFFFF\"> <pad></span><span style=\"background-color: #FFFFFF\"> <pad></span><span style=\"background-color: #FFFFFF\"> <pad></span><span style=\"background-color: #FFFFFF\"> <pad></span><span style=\"background-color: #FFFFFF\"> <pad></span><span style=\"background-color: #FFFFFF\"> <pad></span><span style=\"background-color: #FFFFFF\"> <pad></span><span style=\"background-color: #FFFFFF\"> <pad></span><span style=\"background-color: #FFFFFF\"> <pad></span><span style=\"background-color: #FFFFFF\"> <pad></span><span style=\"background-color: #FFFFFF\"> <pad></span><span style=\"background-color: #FFFFFF\"> <pad></span><span style=\"background-color: #FFFFFF\"> <pad></span><span style=\"background-color: #FFFFFF\"> <pad></span><span style=\"background-color: #FFFFFF\"> <pad></span><span style=\"background-color: #FFFFFF\"> <pad></span><span style=\"background-color: #FFFFFF\"> <pad></span><span style=\"background-color: #FFFFFF\"> <pad></span><span style=\"background-color: #FFFFFF\"> <pad></span><span style=\"background-color: #FFFFFF\"> <pad></span><span style=\"background-color: #FFFFFF\"> <pad></span><span style=\"background-color: #FFFFFF\"> <pad></span><span style=\"background-color: #FFFFFF\"> <pad></span><span style=\"background-color: #FFFFFF\"> <pad></span><span style=\"background-color: #FFFFFF\"> <pad></span><span style=\"background-color: #FFFFFF\"> <pad></span><span style=\"background-color: #FFFFFF\"> <pad></span><span style=\"background-color: #FFFFFF\"> <pad></span><span style=\"background-color: #FFFFFF\"> <pad></span><span style=\"background-color: #FFFFFF\"> <pad></span><span style=\"background-color: #FFFFFF\"> <pad></span><span style=\"background-color: #FFFFFF\"> <pad></span><span style=\"background-color: #FFFFFF\"> <pad></span><span style=\"background-color: #FFFFFF\"> <pad></span><span style=\"background-color: #FFFFFF\"> <pad></span><span style=\"background-color: #FFFFFF\"> <pad></span><span style=\"background-color: #FFFFFF\"> <pad></span><span style=\"background-color: #FFFFFF\"> <pad></span><span style=\"background-color: #FFFFFF\"> <pad></span><span style=\"background-color: #FFFFFF\"> <pad></span><span style=\"background-color: #FFFFFF\"> <pad></span><span style=\"background-color: #FFFFFF\"> <pad></span><span style=\"background-color: #FFFFFF\"> <pad></span><span style=\"background-color: #FFFFFF\"> <pad></span><span style=\"background-color: #FFFFFF\"> <pad></span><span style=\"background-color: #FFFFFF\"> <pad></span><span style=\"background-color: #FFFFFF\"> <pad></span><span style=\"background-color: #FFFFFF\"> <pad></span><span style=\"background-color: #FFFFFF\"> <pad></span><span style=\"background-color: #FFFFFF\"> <pad></span><span style=\"background-color: #FFFFFF\"> <pad></span><span style=\"background-color: #FFFFFF\"> <pad></span><span style=\"background-color: #FFFFFF\"> <pad></span><span style=\"background-color: #FFFFFF\"> <pad></span><span style=\"background-color: #FFFFFF\"> <pad></span><span style=\"background-color: #FFFFFF\"> <pad></span><span style=\"background-color: #FFFFFF\"> <pad></span><span style=\"background-color: #FFFFFF\"> <pad></span><span style=\"background-color: #FFFFFF\"> <pad></span><span style=\"background-color: #FFFFFF\"> <pad></span><span style=\"background-color: #FFFFFF\"> <pad></span><span style=\"background-color: #FFFFFF\"> <pad></span><span style=\"background-color: #FFFFFF\"> <pad></span><span style=\"background-color: #FFFFFF\"> <pad></span><span style=\"background-color: #FFFFFF\"> <pad></span><br><br>"
            ],
            "text/plain": [
              "<IPython.core.display.HTML object>"
            ]
          },
          "metadata": {},
          "execution_count": 32
        }
      ]
    },
    {
      "cell_type": "markdown",
      "source": [
        "これは正解ラベルがそもそもPositiveなのか…？"
      ],
      "metadata": {
        "id": "9mFRMXNqz-mv"
      }
    },
    {
      "cell_type": "code",
      "source": [
        "|"
      ],
      "metadata": {
        "id": "6pPYShSlzXLp"
      },
      "execution_count": null,
      "outputs": []
    }
  ]
}